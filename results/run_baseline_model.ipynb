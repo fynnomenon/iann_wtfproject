{
  "nbformat": 4,
  "nbformat_minor": 0,
  "metadata": {
    "colab": {
      "provenance": []
    },
    "kernelspec": {
      "name": "python3",
      "display_name": "Python 3"
    },
    "language_info": {
      "name": "python"
    },
    "gpuClass": "standard",
    "accelerator": "GPU"
  },
  "cells": [
    {
      "cell_type": "code",
      "execution_count": null,
      "metadata": {
        "colab": {
          "base_uri": "https://localhost:8080/"
        },
        "id": "sVMMNIZ8aZBi",
        "outputId": "1603b7c0-85e7-4d93-8e31-6736a0cd95c1"
      },
      "outputs": [
        {
          "output_type": "stream",
          "name": "stdout",
          "text": [
            "Mounted at /content/drive\n"
          ]
        }
      ],
      "source": [
        "from google.colab import drive\n",
        "drive.mount('/content/drive')"
      ]
    },
    {
      "cell_type": "markdown",
      "source": [
        "**Welcome to our Tensorflow project.** <br>\n",
        "\n",
        "\n",
        "You need to run these two code snippets to start our model.\n",
        "By passing arguments to the main.py file, you can choose whether to use the baseline or multimodal model. See the table below for all the different arguments you can use. If you run it on colab, you have to upload the files to the session storage.\n",
        "\n",
        "\n",
        "| Argument| Defaul | Options|\n",
        "| :- | :-: | -: |\n",
        "| --data | SALICON | capgaze1 |\n",
        "| --colab | 1 | 0 |\n",
        "| --model | baseline | multimodal |\n",
        "| --save | 0 | 1 |\n",
        "| --load_model | 0 | 1 |\n",
        "| --use_pretrained | 1 | 0 |\n",
        "| --fine_tune | 0 | int |\n",
        "| --lr | 1e-4 | float |\n",
        "| --lr_sched | 0 | int |\n",
        "| --optim | Adam | SGD/Adagrad |\n",
        "| --step_size | 5 | int |\n",
        "| --l1_norm | None | float |\n",
        "| --l2_norm | None | float |\n",
        "| --text_with_dense | 1 | int |\n",
        "| --start_epoch | 0 | int |\n",
        "| --no_epochs | 24 | int |\n",
        "| --batch_size | 32 | int |\n"
      ],
      "metadata": {
        "id": "WivZ97iGbG19"
      }
    },
    {
      "cell_type": "code",
      "source": [
        "%run main.py --model baseline --data SALICON --fine_tune 2 --save 1 --no_epochs 5 --config_name baseline_SALICON_v1"
      ],
      "metadata": {
        "colab": {
          "base_uri": "https://localhost:8080/",
          "height": 1000
        },
        "id": "p7pYamqXbOtp",
        "outputId": "1b83b513-3f69-42f8-9039-2d412152ff96"
      },
      "execution_count": null,
      "outputs": [
        {
          "metadata": {
            "tags": null
          },
          "name": "stdout",
          "output_type": "stream",
          "text": [
            "Data: SALICON\n",
            "Model: Baseline Model\n",
            "Model performance before training:\n"
          ]
        },
        {
          "metadata": {
            "tags": null
          },
          "name": "stderr",
          "output_type": "stream",
          "text": [
            "100%|██████████| 157/157 [02:15<00:00,  1.16it/s]\n"
          ]
        },
        {
          "metadata": {
            "tags": null
          },
          "name": "stdout",
          "output_type": "stream",
          "text": [
            "\n",
            "\n",
            "test_loss: 4.1224365234375\n",
            "test_AUC: 0.5103135704994202\n",
            "test_CC: -0.0014175561955198646\n",
            "test_NSS: -0.003509100526571274\n",
            "test_KLDiv: 4.1224365234375\n",
            "test_SIM: 0.5242066979408264\n",
            "\n",
            "\n",
            "Epoch:  0\n"
          ]
        },
        {
          "metadata": {
            "tags": null
          },
          "name": "stderr",
          "output_type": "stream",
          "text": [
            "  0%|          | 0/313 [00:00<?, ?it/s]WARNING:tensorflow:5 out of the last 5 calls to <function _BaseOptimizer._update_step_xla at 0x7f4b996ba8b0> triggered tf.function retracing. Tracing is expensive and the excessive number of tracings could be due to (1) creating @tf.function repeatedly in a loop, (2) passing tensors with different shapes, (3) passing Python objects instead of tensors. For (1), please define your @tf.function outside of the loop. For (2), @tf.function has reduce_retracing=True option that can avoid unnecessary retracing. For (3), please refer to https://www.tensorflow.org/guide/function#controlling_retracing and https://www.tensorflow.org/api_docs/python/tf/function for  more details.\n",
            "WARNING:tensorflow:6 out of the last 6 calls to <function _BaseOptimizer._update_step_xla at 0x7f4b996ba8b0> triggered tf.function retracing. Tracing is expensive and the excessive number of tracings could be due to (1) creating @tf.function repeatedly in a loop, (2) passing tensors with different shapes, (3) passing Python objects instead of tensors. For (1), please define your @tf.function outside of the loop. For (2), @tf.function has reduce_retracing=True option that can avoid unnecessary retracing. For (3), please refer to https://www.tensorflow.org/guide/function#controlling_retracing and https://www.tensorflow.org/api_docs/python/tf/function for  more details.\n",
            "100%|██████████| 313/313 [10:18<00:00,  1.98s/it]\n"
          ]
        },
        {
          "metadata": {
            "tags": null
          },
          "name": "stdout",
          "output_type": "stream",
          "text": [
            "train_loss: 0.4914151430130005\n",
            "train_AUC: 0.7931251525878906\n",
            "train_CC: 0.4395752549171448\n",
            "train_NSS: 0.377072274684906\n",
            "train_KLDiv: 0.4914151430130005\n",
            "train_SIM: 0.6126768589019775\n"
          ]
        },
        {
          "metadata": {
            "tags": null
          },
          "name": "stderr",
          "output_type": "stream",
          "text": [
            "100%|██████████| 157/157 [02:21<00:00,  1.11it/s]\n"
          ]
        },
        {
          "metadata": {
            "tags": null
          },
          "name": "stdout",
          "output_type": "stream",
          "text": [
            "\n",
            "\n",
            "test_loss: 0.4066055417060852\n",
            "test_AUC: 0.8518539071083069\n",
            "test_CC: 0.5014490485191345\n",
            "test_NSS: 0.41366201639175415\n",
            "test_KLDiv: 0.4066055417060852\n",
            "test_SIM: 0.6520111560821533\n",
            "\n",
            "\n",
            "Epoch:  1\n"
          ]
        },
        {
          "metadata": {
            "tags": null
          },
          "name": "stderr",
          "output_type": "stream",
          "text": [
            "100%|██████████| 313/313 [09:26<00:00,  1.81s/it]\n"
          ]
        },
        {
          "metadata": {
            "tags": null
          },
          "name": "stdout",
          "output_type": "stream",
          "text": [
            "train_loss: 0.35818561911582947\n",
            "train_AUC: 0.8770278692245483\n",
            "train_CC: 0.6024680137634277\n",
            "train_NSS: 0.5140440464019775\n",
            "train_KLDiv: 0.35818561911582947\n",
            "train_SIM: 0.6706240177154541\n"
          ]
        },
        {
          "metadata": {
            "tags": null
          },
          "name": "stderr",
          "output_type": "stream",
          "text": [
            "100%|██████████| 157/157 [01:37<00:00,  1.62it/s]\n"
          ]
        },
        {
          "metadata": {
            "tags": null
          },
          "name": "stdout",
          "output_type": "stream",
          "text": [
            "\n",
            "\n",
            "test_loss: 0.2632511556148529\n",
            "test_AUC: 0.8215333223342896\n",
            "test_CC: 0.6922543048858643\n",
            "test_NSS: 0.5721455812454224\n",
            "test_KLDiv: 0.2632511556148529\n",
            "test_SIM: 0.7216082215309143\n",
            "\n",
            "\n",
            "Epoch:  2\n"
          ]
        },
        {
          "output_type": "stream",
          "name": "stderr",
          "text": [
            "100%|██████████| 313/313 [09:19<00:00,  1.79s/it]\n"
          ]
        },
        {
          "output_type": "stream",
          "name": "stdout",
          "text": [
            "train_loss: 0.2058083564043045\n",
            "train_AUC: 0.8865390419960022\n",
            "train_CC: 0.7853624820709229\n",
            "train_NSS: 0.6932087540626526\n",
            "train_KLDiv: 0.2058083564043045\n",
            "train_SIM: 0.7557694911956787\n"
          ]
        },
        {
          "output_type": "stream",
          "name": "stderr",
          "text": [
            "100%|██████████| 157/157 [02:21<00:00,  1.11it/s]\n"
          ]
        },
        {
          "output_type": "stream",
          "name": "stdout",
          "text": [
            "\n",
            "\n",
            "test_loss: 0.15404744446277618\n",
            "test_AUC: 0.9041308164596558\n",
            "test_CC: 0.8234678506851196\n",
            "test_NSS: 0.6969123482704163\n",
            "test_KLDiv: 0.15404744446277618\n",
            "test_SIM: 0.7904796600341797\n",
            "\n",
            "\n",
            "Epoch:  3\n"
          ]
        },
        {
          "output_type": "stream",
          "name": "stderr",
          "text": [
            "100%|██████████| 313/313 [09:02<00:00,  1.73s/it]\n"
          ]
        },
        {
          "output_type": "stream",
          "name": "stdout",
          "text": [
            "train_loss: 0.1593693196773529\n",
            "train_AUC: 0.9082440733909607\n",
            "train_CC: 0.844319224357605\n",
            "train_NSS: 0.7400982975959778\n",
            "train_KLDiv: 0.1593693196773529\n",
            "train_SIM: 0.7879062294960022\n"
          ]
        },
        {
          "output_type": "stream",
          "name": "stderr",
          "text": [
            "100%|██████████| 157/157 [01:33<00:00,  1.68it/s]\n"
          ]
        },
        {
          "output_type": "stream",
          "name": "stdout",
          "text": [
            "\n",
            "\n",
            "test_loss: 0.136801615357399\n",
            "test_AUC: 0.9145933389663696\n",
            "test_CC: 0.8499859571456909\n",
            "test_NSS: 0.7239078879356384\n",
            "test_KLDiv: 0.136801615357399\n",
            "test_SIM: 0.8046362400054932\n",
            "\n",
            "\n",
            "Epoch:  4\n"
          ]
        },
        {
          "output_type": "stream",
          "name": "stderr",
          "text": [
            "100%|██████████| 313/313 [09:21<00:00,  1.80s/it]\n"
          ]
        },
        {
          "output_type": "stream",
          "name": "stdout",
          "text": [
            "train_loss: 0.14315618574619293\n",
            "train_AUC: 0.9157578349113464\n",
            "train_CC: 0.8656345009803772\n",
            "train_NSS: 0.7566424608230591\n",
            "train_KLDiv: 0.14315618574619293\n",
            "train_SIM: 0.8007793426513672\n"
          ]
        },
        {
          "output_type": "stream",
          "name": "stderr",
          "text": [
            "100%|██████████| 157/157 [02:21<00:00,  1.11it/s]\n"
          ]
        },
        {
          "output_type": "stream",
          "name": "stdout",
          "text": [
            "\n",
            "\n",
            "test_loss: 0.13264843821525574\n",
            "test_AUC: 0.9262608289718628\n",
            "test_CC: 0.8532304763793945\n",
            "test_NSS: 0.7287206649780273\n",
            "test_KLDiv: 0.13264843821525574\n",
            "test_SIM: 0.8076096177101135\n",
            "\n",
            "\n"
          ]
        },
        {
          "output_type": "display_data",
          "data": {
            "text/plain": [
              "<Figure size 640x480 with 0 Axes>"
            ]
          },
          "metadata": {}
        }
      ]
    },
    {
      "cell_type": "code",
      "source": [
        "%run main.py --model baseline --data SALICON --fine_tune 2 --save 1 --start_epoch 5 --no_epochs 10 --config_name baseline_SALICON_v1 --load_model 1"
      ],
      "metadata": {
        "colab": {
          "base_uri": "https://localhost:8080/",
          "height": 1000
        },
        "id": "IsF5buKrGNBw",
        "outputId": "fa6447bc-16bb-4411-f2dc-4ba4c654b8f6"
      },
      "execution_count": null,
      "outputs": [
        {
          "output_type": "stream",
          "name": "stdout",
          "text": [
            "Data: SALICON\n",
            "Model: Baseline Model\n",
            "Epoch:  5\n"
          ]
        },
        {
          "output_type": "stream",
          "name": "stderr",
          "text": [
            "100%|██████████| 313/313 [09:21<00:00,  1.80s/it]\n"
          ]
        },
        {
          "output_type": "stream",
          "name": "stdout",
          "text": [
            "train_loss: 0.12976668775081635\n",
            "train_AUC: 0.9200587272644043\n",
            "train_CC: 0.8823076486587524\n",
            "train_NSS: 0.7689817547798157\n",
            "train_KLDiv: 0.12976668775081635\n",
            "train_SIM: 0.8118162751197815\n"
          ]
        },
        {
          "output_type": "stream",
          "name": "stderr",
          "text": [
            "100%|██████████| 157/157 [01:34<00:00,  1.67it/s]\n"
          ]
        },
        {
          "output_type": "stream",
          "name": "stdout",
          "text": [
            "\n",
            "\n",
            "test_loss: 0.13252858817577362\n",
            "test_AUC: 0.9258244037628174\n",
            "test_CC: 0.854538083076477\n",
            "test_NSS: 0.726026177406311\n",
            "test_KLDiv: 0.13252858817577362\n",
            "test_SIM: 0.8077937364578247\n",
            "\n",
            "\n",
            "Epoch:  6\n"
          ]
        },
        {
          "output_type": "stream",
          "name": "stderr",
          "text": [
            "100%|██████████| 313/313 [09:21<00:00,  1.80s/it]\n"
          ]
        },
        {
          "output_type": "stream",
          "name": "stdout",
          "text": [
            "train_loss: 0.11861707270145416\n",
            "train_AUC: 0.9228690266609192\n",
            "train_CC: 0.8966282606124878\n",
            "train_NSS: 0.7797430753707886\n",
            "train_KLDiv: 0.11861707270145416\n",
            "train_SIM: 0.8216208815574646\n"
          ]
        },
        {
          "output_type": "stream",
          "name": "stderr",
          "text": [
            "100%|██████████| 157/157 [02:21<00:00,  1.11it/s]\n"
          ]
        },
        {
          "output_type": "stream",
          "name": "stdout",
          "text": [
            "\n",
            "\n",
            "test_loss: 0.13154549896717072\n",
            "test_AUC: 0.9267858862876892\n",
            "test_CC: 0.8584839701652527\n",
            "test_NSS: 0.730252206325531\n",
            "test_KLDiv: 0.13154549896717072\n",
            "test_SIM: 0.809159517288208\n",
            "\n",
            "\n",
            "Epoch:  7\n"
          ]
        },
        {
          "output_type": "stream",
          "name": "stderr",
          "text": [
            "100%|██████████| 313/313 [09:21<00:00,  1.80s/it]\n"
          ]
        },
        {
          "output_type": "stream",
          "name": "stdout",
          "text": [
            "train_loss: 0.10909970849752426\n",
            "train_AUC: 0.9250119924545288\n",
            "train_CC: 0.908316433429718\n",
            "train_NSS: 0.7867482304573059\n",
            "train_KLDiv: 0.10909970849752426\n",
            "train_SIM: 0.8304291367530823\n"
          ]
        },
        {
          "output_type": "stream",
          "name": "stderr",
          "text": [
            "100%|██████████| 157/157 [01:33<00:00,  1.68it/s]\n"
          ]
        },
        {
          "output_type": "stream",
          "name": "stdout",
          "text": [
            "\n",
            "\n",
            "test_loss: 0.13354875147342682\n",
            "test_AUC: 0.9307745099067688\n",
            "test_CC: 0.8559533357620239\n",
            "test_NSS: 0.7351609468460083\n",
            "test_KLDiv: 0.13354875147342682\n",
            "test_SIM: 0.807934045791626\n",
            "\n",
            "\n",
            "Epoch:  8\n"
          ]
        },
        {
          "output_type": "stream",
          "name": "stderr",
          "text": [
            "100%|██████████| 313/313 [09:21<00:00,  1.80s/it]\n"
          ]
        },
        {
          "output_type": "stream",
          "name": "stdout",
          "text": [
            "train_loss: 0.10111597925424576\n",
            "train_AUC: 0.9269381165504456\n",
            "train_CC: 0.9181433916091919\n",
            "train_NSS: 0.7931545376777649\n",
            "train_KLDiv: 0.10111597925424576\n",
            "train_SIM: 0.8382505774497986\n"
          ]
        },
        {
          "output_type": "stream",
          "name": "stderr",
          "text": [
            "100%|██████████| 157/157 [01:33<00:00,  1.68it/s]\n"
          ]
        },
        {
          "output_type": "stream",
          "name": "stdout",
          "text": [
            "\n",
            "\n",
            "test_loss: 0.13863405585289001\n",
            "test_AUC: 0.9299504160881042\n",
            "test_CC: 0.8516135215759277\n",
            "test_NSS: 0.7230594158172607\n",
            "test_KLDiv: 0.13863405585289001\n",
            "test_SIM: 0.8040919899940491\n",
            "\n",
            "\n",
            "Epoch:  9\n"
          ]
        },
        {
          "output_type": "stream",
          "name": "stderr",
          "text": [
            "100%|██████████| 313/313 [09:08<00:00,  1.75s/it]\n"
          ]
        },
        {
          "output_type": "stream",
          "name": "stdout",
          "text": [
            "train_loss: 0.09435904026031494\n",
            "train_AUC: 0.929720938205719\n",
            "train_CC: 0.9258028864860535\n",
            "train_NSS: 0.7954801321029663\n",
            "train_KLDiv: 0.09435904026031494\n",
            "train_SIM: 0.8449435830116272\n"
          ]
        },
        {
          "output_type": "stream",
          "name": "stderr",
          "text": [
            "100%|██████████| 157/157 [01:34<00:00,  1.67it/s]\n"
          ]
        },
        {
          "output_type": "stream",
          "name": "stdout",
          "text": [
            "\n",
            "\n",
            "test_loss: 0.1437208354473114\n",
            "test_AUC: 0.9308627843856812\n",
            "test_CC: 0.8463809490203857\n",
            "test_NSS: 0.7218454480171204\n",
            "test_KLDiv: 0.1437208354473114\n",
            "test_SIM: 0.7993543148040771\n",
            "\n",
            "\n"
          ]
        },
        {
          "output_type": "display_data",
          "data": {
            "text/plain": [
              "<Figure size 640x480 with 0 Axes>"
            ]
          },
          "metadata": {}
        }
      ]
    },
    {
      "cell_type": "code",
      "source": [
        "%run main.py --model baseline --data capgaze1 --load_model 1 --fine_tune 2 --no_epochs 5 --config_name baseline_capgaze1_v1"
      ],
      "metadata": {
        "id": "3GPyH3YRqMaH",
        "colab": {
          "base_uri": "https://localhost:8080/",
          "height": 1000
        },
        "outputId": "8c236b47-9fcc-44c1-e620-fb8a393c3f37"
      },
      "execution_count": null,
      "outputs": [
        {
          "output_type": "stream",
          "name": "stdout",
          "text": [
            "Data: capgaze1\n",
            "Model: Baseline Model\n",
            "Model performance before training:\n"
          ]
        },
        {
          "output_type": "stream",
          "name": "stderr",
          "text": [
            "100%|██████████| 7/7 [00:40<00:00,  5.85s/it]\n"
          ]
        },
        {
          "output_type": "stream",
          "name": "stdout",
          "text": [
            "\n",
            "\n",
            "test_loss: 0.5427147746086121\n",
            "test_AUC: 0.8676336407661438\n",
            "test_CC: 0.6790289878845215\n",
            "test_NSS: 0.658990740776062\n",
            "test_KLDiv: 0.5427147746086121\n",
            "test_SIM: 0.6002139449119568\n",
            "\n",
            "\n",
            "Epoch:  0\n"
          ]
        },
        {
          "output_type": "stream",
          "name": "stderr",
          "text": [
            "\r  0%|          | 0/25 [00:00<?, ?it/s]WARNING:tensorflow:5 out of the last 5 calls to <function _BaseOptimizer._update_step_xla at 0x7f16882a79d0> triggered tf.function retracing. Tracing is expensive and the excessive number of tracings could be due to (1) creating @tf.function repeatedly in a loop, (2) passing tensors with different shapes, (3) passing Python objects instead of tensors. For (1), please define your @tf.function outside of the loop. For (2), @tf.function has reduce_retracing=True option that can avoid unnecessary retracing. For (3), please refer to https://www.tensorflow.org/guide/function#controlling_retracing and https://www.tensorflow.org/api_docs/python/tf/function for  more details.\n",
            "WARNING:tensorflow:6 out of the last 6 calls to <function _BaseOptimizer._update_step_xla at 0x7f16882a79d0> triggered tf.function retracing. Tracing is expensive and the excessive number of tracings could be due to (1) creating @tf.function repeatedly in a loop, (2) passing tensors with different shapes, (3) passing Python objects instead of tensors. For (1), please define your @tf.function outside of the loop. For (2), @tf.function has reduce_retracing=True option that can avoid unnecessary retracing. For (3), please refer to https://www.tensorflow.org/guide/function#controlling_retracing and https://www.tensorflow.org/api_docs/python/tf/function for  more details.\n",
            "100%|██████████| 25/25 [01:21<00:00,  3.28s/it]\n"
          ]
        },
        {
          "output_type": "stream",
          "name": "stdout",
          "text": [
            "train_loss: 0.43504178524017334\n",
            "train_AUC: 0.8740735054016113\n",
            "train_CC: 0.7256012558937073\n",
            "train_NSS: 0.7355902791023254\n",
            "train_KLDiv: 0.43504178524017334\n",
            "train_SIM: 0.6490700244903564\n"
          ]
        },
        {
          "output_type": "stream",
          "name": "stderr",
          "text": [
            "100%|██████████| 7/7 [00:05<00:00,  1.37it/s]\n"
          ]
        },
        {
          "output_type": "stream",
          "name": "stdout",
          "text": [
            "\n",
            "\n",
            "test_loss: 0.4192964732646942\n",
            "test_AUC: 0.8716434836387634\n",
            "test_CC: 0.7458061575889587\n",
            "test_NSS: 0.7177072167396545\n",
            "test_KLDiv: 0.4192964732646942\n",
            "test_SIM: 0.666045606136322\n",
            "\n",
            "\n",
            "Epoch:  1\n"
          ]
        },
        {
          "output_type": "stream",
          "name": "stderr",
          "text": [
            "100%|██████████| 25/25 [01:21<00:00,  3.28s/it]\n"
          ]
        },
        {
          "output_type": "stream",
          "name": "stdout",
          "text": [
            "train_loss: 0.3289804756641388\n",
            "train_AUC: 0.8806964159011841\n",
            "train_CC: 0.8062270283699036\n",
            "train_NSS: 0.7853952646255493\n",
            "train_KLDiv: 0.3289804756641388\n",
            "train_SIM: 0.6995937824249268\n"
          ]
        },
        {
          "output_type": "stream",
          "name": "stderr",
          "text": [
            "100%|██████████| 7/7 [00:05<00:00,  1.39it/s]\n"
          ]
        },
        {
          "output_type": "stream",
          "name": "stdout",
          "text": [
            "\n",
            "\n",
            "test_loss: 0.38513946533203125\n",
            "test_AUC: 0.8714901804924011\n",
            "test_CC: 0.7692344784736633\n",
            "test_NSS: 0.7107033133506775\n",
            "test_KLDiv: 0.38513946533203125\n",
            "test_SIM: 0.6729260683059692\n",
            "\n",
            "\n",
            "Epoch:  2\n"
          ]
        },
        {
          "output_type": "stream",
          "name": "stderr",
          "text": [
            "100%|██████████| 25/25 [00:46<00:00,  1.86s/it]\n"
          ]
        },
        {
          "output_type": "stream",
          "name": "stdout",
          "text": [
            "train_loss: 0.263070672750473\n",
            "train_AUC: 0.8849872350692749\n",
            "train_CC: 0.8544891476631165\n",
            "train_NSS: 0.8097204566001892\n",
            "train_KLDiv: 0.263070672750473\n",
            "train_SIM: 0.7382821440696716\n"
          ]
        },
        {
          "output_type": "stream",
          "name": "stderr",
          "text": [
            "100%|██████████| 7/7 [00:10<00:00,  1.46s/it]\n"
          ]
        },
        {
          "output_type": "stream",
          "name": "stdout",
          "text": [
            "\n",
            "\n",
            "test_loss: 0.401843398809433\n",
            "test_AUC: 0.8750500679016113\n",
            "test_CC: 0.7615447044372559\n",
            "test_NSS: 0.6954993009567261\n",
            "test_KLDiv: 0.401843398809433\n",
            "test_SIM: 0.6644826531410217\n",
            "\n",
            "\n",
            "Epoch:  3\n"
          ]
        },
        {
          "output_type": "stream",
          "name": "stderr",
          "text": [
            "100%|██████████| 25/25 [00:47<00:00,  1.89s/it]\n"
          ]
        },
        {
          "output_type": "stream",
          "name": "stdout",
          "text": [
            "train_loss: 0.21426521241664886\n",
            "train_AUC: 0.8836747407913208\n",
            "train_CC: 0.8874794244766235\n",
            "train_NSS: 0.8208724856376648\n",
            "train_KLDiv: 0.21426521241664886\n",
            "train_SIM: 0.7686508893966675\n"
          ]
        },
        {
          "output_type": "stream",
          "name": "stderr",
          "text": [
            "100%|██████████| 7/7 [00:05<00:00,  1.37it/s]\n"
          ]
        },
        {
          "output_type": "stream",
          "name": "stdout",
          "text": [
            "\n",
            "\n",
            "test_loss: 0.39798352122306824\n",
            "test_AUC: 0.8732746839523315\n",
            "test_CC: 0.7611783146858215\n",
            "test_NSS: 0.6955944895744324\n",
            "test_KLDiv: 0.39798352122306824\n",
            "test_SIM: 0.6642621755599976\n",
            "\n",
            "\n",
            "Epoch:  4\n"
          ]
        },
        {
          "output_type": "stream",
          "name": "stderr",
          "text": [
            "100%|██████████| 25/25 [01:21<00:00,  3.28s/it]\n"
          ]
        },
        {
          "output_type": "stream",
          "name": "stdout",
          "text": [
            "train_loss: 0.18055324256420135\n",
            "train_AUC: 0.8820387125015259\n",
            "train_CC: 0.9092811346054077\n",
            "train_NSS: 0.8263067007064819\n",
            "train_KLDiv: 0.18055324256420135\n",
            "train_SIM: 0.7910521626472473\n"
          ]
        },
        {
          "output_type": "stream",
          "name": "stderr",
          "text": [
            "100%|██████████| 7/7 [00:10<00:00,  1.46s/it]\n"
          ]
        },
        {
          "output_type": "stream",
          "name": "stdout",
          "text": [
            "\n",
            "\n",
            "test_loss: 0.41196495294570923\n",
            "test_AUC: 0.8644602298736572\n",
            "test_CC: 0.7430419325828552\n",
            "test_NSS: 0.6897187232971191\n",
            "test_KLDiv: 0.41196495294570923\n",
            "test_SIM: 0.6595155596733093\n",
            "\n",
            "\n"
          ]
        },
        {
          "output_type": "display_data",
          "data": {
            "text/plain": [
              "<Figure size 640x480 with 0 Axes>"
            ]
          },
          "metadata": {}
        }
      ]
    },
    {
      "cell_type": "code",
      "source": [
        "%run main.py --model baseline --data capgaze1 --fine_tune 2 --no_epochs 10 --config_name baseline_capgaze1_not_pretrained"
      ],
      "metadata": {
        "colab": {
          "base_uri": "https://localhost:8080/",
          "height": 1000
        },
        "id": "43jb5mlbyUOi",
        "outputId": "ac0926df-97e4-43a4-cb4c-bfc989628d0a"
      },
      "execution_count": null,
      "outputs": [
        {
          "output_type": "stream",
          "name": "stdout",
          "text": [
            "Data: capgaze1\n",
            "Model: Baseline Model\n",
            "Model performance before training:\n"
          ]
        },
        {
          "output_type": "stream",
          "name": "stderr",
          "text": [
            "100%|██████████| 7/7 [00:10<00:00,  1.46s/it]\n"
          ]
        },
        {
          "output_type": "stream",
          "name": "stdout",
          "text": [
            "\n",
            "\n",
            "test_loss: 23.243959426879883\n",
            "test_AUC: 0.5067606568336487\n",
            "test_CC: 0.03368033841252327\n",
            "test_NSS: 0.04091804847121239\n",
            "test_KLDiv: 23.243959426879883\n",
            "test_SIM: 0.07319004088640213\n",
            "\n",
            "\n",
            "Epoch:  0\n"
          ]
        },
        {
          "output_type": "stream",
          "name": "stderr",
          "text": [
            "100%|██████████| 25/25 [01:21<00:00,  3.28s/it]\n"
          ]
        },
        {
          "output_type": "stream",
          "name": "stdout",
          "text": [
            "train_loss: 1.1562747955322266\n",
            "train_AUC: 0.6228154897689819\n",
            "train_CC: 0.2042625993490219\n",
            "train_NSS: 0.23870842158794403\n",
            "train_KLDiv: 1.1562747955322266\n",
            "train_SIM: 0.4109967052936554\n"
          ]
        },
        {
          "output_type": "stream",
          "name": "stderr",
          "text": [
            "100%|██████████| 7/7 [00:05<00:00,  1.28it/s]\n"
          ]
        },
        {
          "output_type": "stream",
          "name": "stdout",
          "text": [
            "\n",
            "\n",
            "test_loss: 1.1176992654800415\n",
            "test_AUC: 0.6617883443832397\n",
            "test_CC: 0.24377311766147614\n",
            "test_NSS: 0.27973589301109314\n",
            "test_KLDiv: 1.1176992654800415\n",
            "test_SIM: 0.40449604392051697\n",
            "\n",
            "\n",
            "Epoch:  1\n"
          ]
        },
        {
          "output_type": "stream",
          "name": "stderr",
          "text": [
            "100%|██████████| 25/25 [00:50<00:00,  2.00s/it]\n"
          ]
        },
        {
          "output_type": "stream",
          "name": "stdout",
          "text": [
            "train_loss: 1.059951901435852\n",
            "train_AUC: 0.6617570519447327\n",
            "train_CC: 0.2748173475265503\n",
            "train_NSS: 0.3081294894218445\n",
            "train_KLDiv: 1.059951901435852\n",
            "train_SIM: 0.425304651260376\n"
          ]
        },
        {
          "output_type": "stream",
          "name": "stderr",
          "text": [
            "100%|██████████| 7/7 [00:05<00:00,  1.34it/s]\n"
          ]
        },
        {
          "output_type": "stream",
          "name": "stdout",
          "text": [
            "\n",
            "\n",
            "test_loss: 1.1005948781967163\n",
            "test_AUC: 0.6761253476142883\n",
            "test_CC: 0.2823946475982666\n",
            "test_NSS: 0.3035997450351715\n",
            "test_KLDiv: 1.1005948781967163\n",
            "test_SIM: 0.40691328048706055\n",
            "\n",
            "\n",
            "Epoch:  2\n"
          ]
        },
        {
          "output_type": "stream",
          "name": "stderr",
          "text": [
            "100%|██████████| 25/25 [01:21<00:00,  3.28s/it]\n"
          ]
        },
        {
          "output_type": "stream",
          "name": "stdout",
          "text": [
            "train_loss: 1.035210132598877\n",
            "train_AUC: 0.6759913563728333\n",
            "train_CC: 0.2964394688606262\n",
            "train_NSS: 0.32639002799987793\n",
            "train_KLDiv: 1.035210132598877\n",
            "train_SIM: 0.43188512325286865\n"
          ]
        },
        {
          "output_type": "stream",
          "name": "stderr",
          "text": [
            "100%|██████████| 7/7 [00:05<00:00,  1.37it/s]\n"
          ]
        },
        {
          "output_type": "stream",
          "name": "stdout",
          "text": [
            "\n",
            "\n",
            "test_loss: 1.0666674375534058\n",
            "test_AUC: 0.6871820688247681\n",
            "test_CC: 0.30332544445991516\n",
            "test_NSS: 0.34594088792800903\n",
            "test_KLDiv: 1.0666674375534058\n",
            "test_SIM: 0.41575756669044495\n",
            "\n",
            "\n",
            "Epoch:  3\n"
          ]
        },
        {
          "output_type": "stream",
          "name": "stderr",
          "text": [
            "100%|██████████| 25/25 [01:21<00:00,  3.28s/it]\n"
          ]
        },
        {
          "output_type": "stream",
          "name": "stdout",
          "text": [
            "train_loss: 1.0180296897888184\n",
            "train_AUC: 0.686094343662262\n",
            "train_CC: 0.31084883213043213\n",
            "train_NSS: 0.34077683091163635\n",
            "train_KLDiv: 1.0180296897888184\n",
            "train_SIM: 0.4367789030075073\n"
          ]
        },
        {
          "output_type": "stream",
          "name": "stderr",
          "text": [
            "100%|██████████| 7/7 [00:05<00:00,  1.37it/s]\n"
          ]
        },
        {
          "output_type": "stream",
          "name": "stdout",
          "text": [
            "\n",
            "\n",
            "test_loss: 1.0427639484405518\n",
            "test_AUC: 0.697880208492279\n",
            "test_CC: 0.31148049235343933\n",
            "test_NSS: 0.3446442782878876\n",
            "test_KLDiv: 1.0427639484405518\n",
            "test_SIM: 0.42421525716781616\n",
            "\n",
            "\n",
            "Epoch:  4\n"
          ]
        },
        {
          "output_type": "stream",
          "name": "stderr",
          "text": [
            "100%|██████████| 25/25 [00:50<00:00,  2.01s/it]\n"
          ]
        },
        {
          "output_type": "stream",
          "name": "stdout",
          "text": [
            "train_loss: 0.994769275188446\n",
            "train_AUC: 0.7005602121353149\n",
            "train_CC: 0.3281002938747406\n",
            "train_NSS: 0.3567982017993927\n",
            "train_KLDiv: 0.994769275188446\n",
            "train_SIM: 0.4426836669445038\n"
          ]
        },
        {
          "output_type": "stream",
          "name": "stderr",
          "text": [
            "100%|██████████| 7/7 [00:10<00:00,  1.46s/it]\n"
          ]
        },
        {
          "output_type": "stream",
          "name": "stdout",
          "text": [
            "\n",
            "\n",
            "test_loss: 1.0348294973373413\n",
            "test_AUC: 0.7076881527900696\n",
            "test_CC: 0.33378106355667114\n",
            "test_NSS: 0.3496148884296417\n",
            "test_KLDiv: 1.0348294973373413\n",
            "test_SIM: 0.4254798889160156\n",
            "\n",
            "\n",
            "Epoch:  5\n"
          ]
        },
        {
          "output_type": "stream",
          "name": "stderr",
          "text": [
            "100%|██████████| 25/25 [01:21<00:00,  3.28s/it]\n"
          ]
        },
        {
          "output_type": "stream",
          "name": "stdout",
          "text": [
            "train_loss: 0.9732472896575928\n",
            "train_AUC: 0.7098340392112732\n",
            "train_CC: 0.3448411226272583\n",
            "train_NSS: 0.37324538826942444\n",
            "train_KLDiv: 0.9732472896575928\n",
            "train_SIM: 0.44924208521842957\n"
          ]
        },
        {
          "output_type": "stream",
          "name": "stderr",
          "text": [
            "100%|██████████| 7/7 [00:10<00:00,  1.46s/it]\n"
          ]
        },
        {
          "output_type": "stream",
          "name": "stdout",
          "text": [
            "\n",
            "\n",
            "test_loss: 0.9899010062217712\n",
            "test_AUC: 0.720059335231781\n",
            "test_CC: 0.36031657457351685\n",
            "test_NSS: 0.37985295057296753\n",
            "test_KLDiv: 0.9899010062217712\n",
            "test_SIM: 0.439963161945343\n",
            "\n",
            "\n",
            "Epoch:  6\n"
          ]
        },
        {
          "output_type": "stream",
          "name": "stderr",
          "text": [
            "100%|██████████| 25/25 [01:21<00:00,  3.28s/it]\n"
          ]
        },
        {
          "output_type": "stream",
          "name": "stdout",
          "text": [
            "train_loss: 0.9555233120918274\n",
            "train_AUC: 0.7174999117851257\n",
            "train_CC: 0.3583642244338989\n",
            "train_NSS: 0.38222575187683105\n",
            "train_KLDiv: 0.9555233120918274\n",
            "train_SIM: 0.45401543378829956\n"
          ]
        },
        {
          "output_type": "stream",
          "name": "stderr",
          "text": [
            "100%|██████████| 7/7 [00:04<00:00,  1.42it/s]\n"
          ]
        },
        {
          "output_type": "stream",
          "name": "stdout",
          "text": [
            "\n",
            "\n",
            "test_loss: 0.966691792011261\n",
            "test_AUC: 0.727488100528717\n",
            "test_CC: 0.36783677339553833\n",
            "test_NSS: 0.3833068311214447\n",
            "test_KLDiv: 0.966691792011261\n",
            "test_SIM: 0.44798728823661804\n",
            "\n",
            "\n",
            "Epoch:  7\n"
          ]
        },
        {
          "output_type": "stream",
          "name": "stderr",
          "text": [
            "100%|██████████| 25/25 [01:21<00:00,  3.28s/it]\n"
          ]
        },
        {
          "output_type": "stream",
          "name": "stdout",
          "text": [
            "train_loss: 0.9398207068443298\n",
            "train_AUC: 0.7281097769737244\n",
            "train_CC: 0.36872348189353943\n",
            "train_NSS: 0.39974725246429443\n",
            "train_KLDiv: 0.9398207068443298\n",
            "train_SIM: 0.4593593180179596\n"
          ]
        },
        {
          "output_type": "stream",
          "name": "stderr",
          "text": [
            "100%|██████████| 7/7 [00:04<00:00,  1.40it/s]\n"
          ]
        },
        {
          "output_type": "stream",
          "name": "stdout",
          "text": [
            "\n",
            "\n",
            "test_loss: 0.9458975791931152\n",
            "test_AUC: 0.7334378957748413\n",
            "test_CC: 0.3733331561088562\n",
            "test_NSS: 0.3872773051261902\n",
            "test_KLDiv: 0.9458975791931152\n",
            "test_SIM: 0.4558529853820801\n",
            "\n",
            "\n",
            "Epoch:  8\n"
          ]
        },
        {
          "output_type": "stream",
          "name": "stderr",
          "text": [
            "100%|██████████| 25/25 [01:21<00:00,  3.28s/it]\n"
          ]
        },
        {
          "output_type": "stream",
          "name": "stdout",
          "text": [
            "train_loss: 0.9228918552398682\n",
            "train_AUC: 0.7361403703689575\n",
            "train_CC: 0.379779577255249\n",
            "train_NSS: 0.40707752108573914\n",
            "train_KLDiv: 0.9228918552398682\n",
            "train_SIM: 0.46373236179351807\n"
          ]
        },
        {
          "output_type": "stream",
          "name": "stderr",
          "text": [
            "100%|██████████| 7/7 [00:05<00:00,  1.37it/s]\n"
          ]
        },
        {
          "output_type": "stream",
          "name": "stdout",
          "text": [
            "\n",
            "\n",
            "test_loss: 0.913716197013855\n",
            "test_AUC: 0.7421432733535767\n",
            "test_CC: 0.3965268135070801\n",
            "test_NSS: 0.3956814408302307\n",
            "test_KLDiv: 0.913716197013855\n",
            "test_SIM: 0.46799972653388977\n",
            "\n",
            "\n",
            "Epoch:  9\n"
          ]
        },
        {
          "output_type": "stream",
          "name": "stderr",
          "text": [
            "100%|██████████| 25/25 [01:21<00:00,  3.28s/it]\n"
          ]
        },
        {
          "output_type": "stream",
          "name": "stdout",
          "text": [
            "train_loss: 0.9068778157234192\n",
            "train_AUC: 0.7448205351829529\n",
            "train_CC: 0.39069050550460815\n",
            "train_NSS: 0.42102372646331787\n",
            "train_KLDiv: 0.9068778157234192\n",
            "train_SIM: 0.4687008559703827\n"
          ]
        },
        {
          "output_type": "stream",
          "name": "stderr",
          "text": [
            "100%|██████████| 7/7 [00:05<00:00,  1.37it/s]\n"
          ]
        },
        {
          "output_type": "stream",
          "name": "stdout",
          "text": [
            "\n",
            "\n",
            "test_loss: 0.9157189130783081\n",
            "test_AUC: 0.7484011054039001\n",
            "test_CC: 0.4084469974040985\n",
            "test_NSS: 0.4027075469493866\n",
            "test_KLDiv: 0.9157189130783081\n",
            "test_SIM: 0.4712599217891693\n",
            "\n",
            "\n"
          ]
        },
        {
          "output_type": "display_data",
          "data": {
            "text/plain": [
              "<Figure size 640x480 with 0 Axes>"
            ]
          },
          "metadata": {}
        }
      ]
    },
    {
      "cell_type": "code",
      "source": [
        "%run main.py --model baseline --data capgaze1 --fine_tune 2 --no_epochs 20 --config_name baseline_capgaze1_not_pretrained"
      ],
      "metadata": {
        "id": "WxyPgbou8yqZ",
        "colab": {
          "base_uri": "https://localhost:8080/",
          "height": 1000
        },
        "outputId": "bab438ef-12a0-44d8-896a-ce13d158a672"
      },
      "execution_count": null,
      "outputs": [
        {
          "output_type": "stream",
          "name": "stdout",
          "text": [
            "Data: capgaze1\n",
            "Model: Baseline Model\n",
            "Downloading data from https://storage.googleapis.com/tensorflow/keras-applications/vgg16/vgg16_weights_tf_dim_ordering_tf_kernels_notop.h5\n",
            "58889256/58889256 [==============================] - 4s 0us/step\n",
            "Model performance before training:\n"
          ]
        },
        {
          "output_type": "stream",
          "name": "stderr",
          "text": [
            "100%|██████████| 7/7 [00:30<00:00,  4.32s/it]\n"
          ]
        },
        {
          "output_type": "stream",
          "name": "stdout",
          "text": [
            "\n",
            "\n",
            "test_loss: 13.214716911315918\n",
            "test_AUC: 0.5284404754638672\n",
            "test_CC: 0.046388592571020126\n",
            "test_NSS: 0.045174188911914825\n",
            "test_KLDiv: 13.214716911315918\n",
            "test_SIM: 0.2763811945915222\n",
            "\n",
            "\n",
            "Epoch:  0\n"
          ]
        },
        {
          "output_type": "stream",
          "name": "stderr",
          "text": [
            "\r  0%|          | 0/25 [00:00<?, ?it/s]WARNING:tensorflow:5 out of the last 5 calls to <function _BaseOptimizer._update_step_xla at 0x7fc7102a25e0> triggered tf.function retracing. Tracing is expensive and the excessive number of tracings could be due to (1) creating @tf.function repeatedly in a loop, (2) passing tensors with different shapes, (3) passing Python objects instead of tensors. For (1), please define your @tf.function outside of the loop. For (2), @tf.function has reduce_retracing=True option that can avoid unnecessary retracing. For (3), please refer to https://www.tensorflow.org/guide/function#controlling_retracing and https://www.tensorflow.org/api_docs/python/tf/function for  more details.\n",
            "WARNING:tensorflow:6 out of the last 6 calls to <function _BaseOptimizer._update_step_xla at 0x7fc7102a25e0> triggered tf.function retracing. Tracing is expensive and the excessive number of tracings could be due to (1) creating @tf.function repeatedly in a loop, (2) passing tensors with different shapes, (3) passing Python objects instead of tensors. For (1), please define your @tf.function outside of the loop. For (2), @tf.function has reduce_retracing=True option that can avoid unnecessary retracing. For (3), please refer to https://www.tensorflow.org/guide/function#controlling_retracing and https://www.tensorflow.org/api_docs/python/tf/function for  more details.\n",
            "100%|██████████| 25/25 [01:21<00:00,  3.28s/it]\n"
          ]
        },
        {
          "output_type": "stream",
          "name": "stdout",
          "text": [
            "train_loss: 1.1237752437591553\n",
            "train_AUC: 0.6266111731529236\n",
            "train_CC: 0.22511640191078186\n",
            "train_NSS: 0.2517070174217224\n",
            "train_KLDiv: 1.1237752437591553\n",
            "train_SIM: 0.4147917628288269\n"
          ]
        },
        {
          "output_type": "stream",
          "name": "stderr",
          "text": [
            "100%|██████████| 7/7 [00:05<00:00,  1.37it/s]\n"
          ]
        },
        {
          "output_type": "stream",
          "name": "stdout",
          "text": [
            "\n",
            "\n",
            "test_loss: 1.1127675771713257\n",
            "test_AUC: 0.6651272773742676\n",
            "test_CC: 0.25066515803337097\n",
            "test_NSS: 0.2813381850719452\n",
            "test_KLDiv: 1.1127675771713257\n",
            "test_SIM: 0.4046153724193573\n",
            "\n",
            "\n",
            "Epoch:  1\n"
          ]
        },
        {
          "output_type": "stream",
          "name": "stderr",
          "text": [
            "100%|██████████| 25/25 [00:48<00:00,  1.92s/it]\n"
          ]
        },
        {
          "output_type": "stream",
          "name": "stdout",
          "text": [
            "train_loss: 1.0526671409606934\n",
            "train_AUC: 0.6637682318687439\n",
            "train_CC: 0.2814987897872925\n",
            "train_NSS: 0.31009119749069214\n",
            "train_KLDiv: 1.0526671409606934\n",
            "train_SIM: 0.4277065396308899\n"
          ]
        },
        {
          "output_type": "stream",
          "name": "stderr",
          "text": [
            "100%|██████████| 7/7 [00:05<00:00,  1.37it/s]\n"
          ]
        },
        {
          "output_type": "stream",
          "name": "stdout",
          "text": [
            "\n",
            "\n",
            "test_loss: 1.1167782545089722\n",
            "test_AUC: 0.6815650463104248\n",
            "test_CC: 0.2713903784751892\n",
            "test_NSS: 0.2986891567707062\n",
            "test_KLDiv: 1.1167782545089722\n",
            "test_SIM: 0.4030684530735016\n",
            "\n",
            "\n",
            "Epoch:  2\n"
          ]
        },
        {
          "output_type": "stream",
          "name": "stderr",
          "text": [
            "100%|██████████| 25/25 [00:47<00:00,  1.91s/it]\n"
          ]
        },
        {
          "output_type": "stream",
          "name": "stdout",
          "text": [
            "train_loss: 1.0297452211380005\n",
            "train_AUC: 0.6794074773788452\n",
            "train_CC: 0.3013889491558075\n",
            "train_NSS: 0.329962819814682\n",
            "train_KLDiv: 1.0297452211380005\n",
            "train_SIM: 0.43383949995040894\n"
          ]
        },
        {
          "output_type": "stream",
          "name": "stderr",
          "text": [
            "100%|██████████| 7/7 [00:04<00:00,  1.42it/s]\n"
          ]
        },
        {
          "output_type": "stream",
          "name": "stdout",
          "text": [
            "\n",
            "\n",
            "test_loss: 1.0893465280532837\n",
            "test_AUC: 0.6899994611740112\n",
            "test_CC: 0.28693875670433044\n",
            "test_NSS: 0.33171018958091736\n",
            "test_KLDiv: 1.0893465280532837\n",
            "test_SIM: 0.4115155339241028\n",
            "\n",
            "\n",
            "Epoch:  3\n"
          ]
        },
        {
          "output_type": "stream",
          "name": "stderr",
          "text": [
            "100%|██████████| 25/25 [00:48<00:00,  1.92s/it]\n"
          ]
        },
        {
          "output_type": "stream",
          "name": "stdout",
          "text": [
            "train_loss: 1.0091643333435059\n",
            "train_AUC: 0.6927613019943237\n",
            "train_CC: 0.31849566102027893\n",
            "train_NSS: 0.3425765931606293\n",
            "train_KLDiv: 1.0091643333435059\n",
            "train_SIM: 0.43945643305778503\n"
          ]
        },
        {
          "output_type": "stream",
          "name": "stderr",
          "text": [
            "100%|██████████| 7/7 [00:05<00:00,  1.36it/s]\n"
          ]
        },
        {
          "output_type": "stream",
          "name": "stdout",
          "text": [
            "\n",
            "\n",
            "test_loss: 1.0754448175430298\n",
            "test_AUC: 0.6995692253112793\n",
            "test_CC: 0.3143135607242584\n",
            "test_NSS: 0.3257822096347809\n",
            "test_KLDiv: 1.0754448175430298\n",
            "test_SIM: 0.4133875072002411\n",
            "\n",
            "\n",
            "Epoch:  4\n"
          ]
        },
        {
          "output_type": "stream",
          "name": "stderr",
          "text": [
            "100%|██████████| 25/25 [00:47<00:00,  1.91s/it]\n"
          ]
        },
        {
          "output_type": "stream",
          "name": "stdout",
          "text": [
            "train_loss: 0.9851436614990234\n",
            "train_AUC: 0.7050142884254456\n",
            "train_CC: 0.3352871239185333\n",
            "train_NSS: 0.36177146434783936\n",
            "train_KLDiv: 0.9851436614990234\n",
            "train_SIM: 0.4453730881214142\n"
          ]
        },
        {
          "output_type": "stream",
          "name": "stderr",
          "text": [
            "100%|██████████| 7/7 [00:05<00:00,  1.37it/s]\n"
          ]
        },
        {
          "output_type": "stream",
          "name": "stdout",
          "text": [
            "\n",
            "\n",
            "test_loss: 1.0385013818740845\n",
            "test_AUC: 0.71055668592453\n",
            "test_CC: 0.3257218897342682\n",
            "test_NSS: 0.3561576008796692\n",
            "test_KLDiv: 1.0385013818740845\n",
            "test_SIM: 0.42411041259765625\n",
            "\n",
            "\n",
            "Epoch:  5\n"
          ]
        },
        {
          "output_type": "stream",
          "name": "stderr",
          "text": [
            "100%|██████████| 25/25 [00:48<00:00,  1.92s/it]\n"
          ]
        },
        {
          "output_type": "stream",
          "name": "stdout",
          "text": [
            "train_loss: 0.9636920690536499\n",
            "train_AUC: 0.7145954966545105\n",
            "train_CC: 0.35150355100631714\n",
            "train_NSS: 0.3826746642589569\n",
            "train_KLDiv: 0.9636920690536499\n",
            "train_SIM: 0.4524132013320923\n"
          ]
        },
        {
          "output_type": "stream",
          "name": "stderr",
          "text": [
            "100%|██████████| 7/7 [00:04<00:00,  1.44it/s]\n"
          ]
        },
        {
          "output_type": "stream",
          "name": "stdout",
          "text": [
            "\n",
            "\n",
            "test_loss: 0.9959986805915833\n",
            "test_AUC: 0.7243926525115967\n",
            "test_CC: 0.3579966425895691\n",
            "test_NSS: 0.39028850197792053\n",
            "test_KLDiv: 0.9959986805915833\n",
            "test_SIM: 0.43694403767585754\n",
            "\n",
            "\n",
            "Epoch:  6\n"
          ]
        },
        {
          "output_type": "stream",
          "name": "stderr",
          "text": [
            "100%|██████████| 25/25 [01:21<00:00,  3.28s/it]\n"
          ]
        },
        {
          "output_type": "stream",
          "name": "stdout",
          "text": [
            "train_loss: 0.949037492275238\n",
            "train_AUC: 0.7232310771942139\n",
            "train_CC: 0.3627627491950989\n",
            "train_NSS: 0.38899609446525574\n",
            "train_KLDiv: 0.949037492275238\n",
            "train_SIM: 0.45665696263313293\n"
          ]
        },
        {
          "output_type": "stream",
          "name": "stderr",
          "text": [
            "100%|██████████| 7/7 [00:05<00:00,  1.36it/s]\n"
          ]
        },
        {
          "output_type": "stream",
          "name": "stdout",
          "text": [
            "\n",
            "\n",
            "test_loss: 0.9632064700126648\n",
            "test_AUC: 0.729168713092804\n",
            "test_CC: 0.3664211928844452\n",
            "test_NSS: 0.3978250026702881\n",
            "test_KLDiv: 0.9632064700126648\n",
            "test_SIM: 0.44909074902534485\n",
            "\n",
            "\n",
            "Epoch:  7\n"
          ]
        },
        {
          "output_type": "stream",
          "name": "stderr",
          "text": [
            "100%|██████████| 25/25 [01:21<00:00,  3.28s/it]\n"
          ]
        },
        {
          "output_type": "stream",
          "name": "stdout",
          "text": [
            "train_loss: 0.9305381774902344\n",
            "train_AUC: 0.7339239120483398\n",
            "train_CC: 0.37454742193222046\n",
            "train_NSS: 0.4039909243583679\n",
            "train_KLDiv: 0.9305381774902344\n",
            "train_SIM: 0.4620572626590729\n"
          ]
        },
        {
          "output_type": "stream",
          "name": "stderr",
          "text": [
            "100%|██████████| 7/7 [00:05<00:00,  1.37it/s]\n"
          ]
        },
        {
          "output_type": "stream",
          "name": "stdout",
          "text": [
            "\n",
            "\n",
            "test_loss: 0.9247518181800842\n",
            "test_AUC: 0.7405058145523071\n",
            "test_CC: 0.3838851749897003\n",
            "test_NSS: 0.38163280487060547\n",
            "test_KLDiv: 0.9247518181800842\n",
            "test_SIM: 0.4617373049259186\n",
            "\n",
            "\n",
            "Epoch:  8\n"
          ]
        },
        {
          "output_type": "stream",
          "name": "stderr",
          "text": [
            "100%|██████████| 25/25 [01:21<00:00,  3.28s/it]\n"
          ]
        },
        {
          "output_type": "stream",
          "name": "stdout",
          "text": [
            "train_loss: 0.9126845002174377\n",
            "train_AUC: 0.7412251234054565\n",
            "train_CC: 0.38651588559150696\n",
            "train_NSS: 0.4150829017162323\n",
            "train_KLDiv: 0.9126845002174377\n",
            "train_SIM: 0.4667375087738037\n"
          ]
        },
        {
          "output_type": "stream",
          "name": "stderr",
          "text": [
            "100%|██████████| 7/7 [00:05<00:00,  1.37it/s]\n"
          ]
        },
        {
          "output_type": "stream",
          "name": "stdout",
          "text": [
            "\n",
            "\n",
            "test_loss: 0.910508930683136\n",
            "test_AUC: 0.7480987310409546\n",
            "test_CC: 0.41163820028305054\n",
            "test_NSS: 0.4091627895832062\n",
            "test_KLDiv: 0.910508930683136\n",
            "test_SIM: 0.46731311082839966\n",
            "\n",
            "\n",
            "Epoch:  9\n"
          ]
        },
        {
          "output_type": "stream",
          "name": "stderr",
          "text": [
            "100%|██████████| 25/25 [01:21<00:00,  3.28s/it]\n"
          ]
        },
        {
          "output_type": "stream",
          "name": "stdout",
          "text": [
            "train_loss: 0.8968058228492737\n",
            "train_AUC: 0.7474672198295593\n",
            "train_CC: 0.3967076241970062\n",
            "train_NSS: 0.4260346293449402\n",
            "train_KLDiv: 0.8968058228492737\n",
            "train_SIM: 0.4718422591686249\n"
          ]
        },
        {
          "output_type": "stream",
          "name": "stderr",
          "text": [
            "100%|██████████| 7/7 [00:05<00:00,  1.34it/s]\n"
          ]
        },
        {
          "output_type": "stream",
          "name": "stdout",
          "text": [
            "\n",
            "\n",
            "test_loss: 0.8936154246330261\n",
            "test_AUC: 0.7535543441772461\n",
            "test_CC: 0.4127715528011322\n",
            "test_NSS: 0.4084169864654541\n",
            "test_KLDiv: 0.8936154246330261\n",
            "test_SIM: 0.4774185121059418\n",
            "\n",
            "\n",
            "Epoch:  10\n"
          ]
        },
        {
          "output_type": "stream",
          "name": "stderr",
          "text": [
            "100%|██████████| 25/25 [01:21<00:00,  3.28s/it]\n"
          ]
        },
        {
          "output_type": "stream",
          "name": "stdout",
          "text": [
            "train_loss: 0.8783810138702393\n",
            "train_AUC: 0.7552149295806885\n",
            "train_CC: 0.4087337851524353\n",
            "train_NSS: 0.4386167526245117\n",
            "train_KLDiv: 0.8783810138702393\n",
            "train_SIM: 0.4770544171333313\n"
          ]
        },
        {
          "output_type": "stream",
          "name": "stderr",
          "text": [
            "100%|██████████| 7/7 [00:10<00:00,  1.46s/it]\n"
          ]
        },
        {
          "output_type": "stream",
          "name": "stdout",
          "text": [
            "\n",
            "\n",
            "test_loss: 0.868122398853302\n",
            "test_AUC: 0.7579205632209778\n",
            "test_CC: 0.44427719712257385\n",
            "test_NSS: 0.4212871193885803\n",
            "test_KLDiv: 0.868122398853302\n",
            "test_SIM: 0.49308863282203674\n",
            "\n",
            "\n",
            "Epoch:  11\n"
          ]
        },
        {
          "output_type": "stream",
          "name": "stderr",
          "text": [
            "100%|██████████| 25/25 [01:21<00:00,  3.28s/it]\n"
          ]
        },
        {
          "output_type": "stream",
          "name": "stdout",
          "text": [
            "train_loss: 0.8576494455337524\n",
            "train_AUC: 0.7632473111152649\n",
            "train_CC: 0.42206069827079773\n",
            "train_NSS: 0.4514163136482239\n",
            "train_KLDiv: 0.8576494455337524\n",
            "train_SIM: 0.4833967685699463\n"
          ]
        },
        {
          "output_type": "stream",
          "name": "stderr",
          "text": [
            "100%|██████████| 7/7 [00:05<00:00,  1.37it/s]\n"
          ]
        },
        {
          "output_type": "stream",
          "name": "stdout",
          "text": [
            "\n",
            "\n",
            "test_loss: 0.9287267923355103\n",
            "test_AUC: 0.7586550712585449\n",
            "test_CC: 0.4182148277759552\n",
            "test_NSS: 0.4031127095222473\n",
            "test_KLDiv: 0.9287267923355103\n",
            "test_SIM: 0.48279494047164917\n",
            "\n",
            "\n",
            "Epoch:  12\n"
          ]
        },
        {
          "output_type": "stream",
          "name": "stderr",
          "text": [
            "100%|██████████| 25/25 [01:21<00:00,  3.28s/it]\n"
          ]
        },
        {
          "output_type": "stream",
          "name": "stdout",
          "text": [
            "train_loss: 0.8388378620147705\n",
            "train_AUC: 0.7692965269088745\n",
            "train_CC: 0.43459171056747437\n",
            "train_NSS: 0.46320784091949463\n",
            "train_KLDiv: 0.8388378620147705\n",
            "train_SIM: 0.48919686675071716\n"
          ]
        },
        {
          "output_type": "stream",
          "name": "stderr",
          "text": [
            "100%|██████████| 7/7 [00:04<00:00,  1.46it/s]\n"
          ]
        },
        {
          "output_type": "stream",
          "name": "stdout",
          "text": [
            "\n",
            "\n",
            "test_loss: 0.9012747406959534\n",
            "test_AUC: 0.7658913731575012\n",
            "test_CC: 0.4242594242095947\n",
            "test_NSS: 0.37839391827583313\n",
            "test_KLDiv: 0.9012747406959534\n",
            "test_SIM: 0.49110865592956543\n",
            "\n",
            "\n",
            "Epoch:  13\n"
          ]
        },
        {
          "output_type": "stream",
          "name": "stderr",
          "text": [
            "100%|██████████| 25/25 [00:48<00:00,  1.96s/it]\n"
          ]
        },
        {
          "output_type": "stream",
          "name": "stdout",
          "text": [
            "train_loss: 0.8211350440979004\n",
            "train_AUC: 0.7764620780944824\n",
            "train_CC: 0.4473991394042969\n",
            "train_NSS: 0.48000776767730713\n",
            "train_KLDiv: 0.8211350440979004\n",
            "train_SIM: 0.49501171708106995\n"
          ]
        },
        {
          "output_type": "stream",
          "name": "stderr",
          "text": [
            "100%|██████████| 7/7 [00:04<00:00,  1.40it/s]\n"
          ]
        },
        {
          "output_type": "stream",
          "name": "stdout",
          "text": [
            "\n",
            "\n",
            "test_loss: 0.9282485246658325\n",
            "test_AUC: 0.7672806978225708\n",
            "test_CC: 0.44099825620651245\n",
            "test_NSS: 0.38806936144828796\n",
            "test_KLDiv: 0.9282485246658325\n",
            "test_SIM: 0.490766704082489\n",
            "\n",
            "\n",
            "Epoch:  14\n"
          ]
        },
        {
          "output_type": "stream",
          "name": "stderr",
          "text": [
            "100%|██████████| 25/25 [00:47<00:00,  1.91s/it]\n"
          ]
        },
        {
          "output_type": "stream",
          "name": "stdout",
          "text": [
            "train_loss: 0.8077667355537415\n",
            "train_AUC: 0.7814154624938965\n",
            "train_CC: 0.4577186703681946\n",
            "train_NSS: 0.4862309694290161\n",
            "train_KLDiv: 0.8077667355537415\n",
            "train_SIM: 0.5000278353691101\n"
          ]
        },
        {
          "output_type": "stream",
          "name": "stderr",
          "text": [
            "100%|██████████| 7/7 [00:05<00:00,  1.36it/s]\n"
          ]
        },
        {
          "output_type": "stream",
          "name": "stdout",
          "text": [
            "\n",
            "\n",
            "test_loss: 0.88233482837677\n",
            "test_AUC: 0.7768641114234924\n",
            "test_CC: 0.4533037841320038\n",
            "test_NSS: 0.41051605343818665\n",
            "test_KLDiv: 0.88233482837677\n",
            "test_SIM: 0.49919968843460083\n",
            "\n",
            "\n",
            "Epoch:  15\n"
          ]
        },
        {
          "output_type": "stream",
          "name": "stderr",
          "text": [
            "100%|██████████| 25/25 [00:48<00:00,  1.92s/it]\n"
          ]
        },
        {
          "output_type": "stream",
          "name": "stdout",
          "text": [
            "train_loss: 0.7887118458747864\n",
            "train_AUC: 0.7876108884811401\n",
            "train_CC: 0.4704503118991852\n",
            "train_NSS: 0.497819721698761\n",
            "train_KLDiv: 0.7887118458747864\n",
            "train_SIM: 0.5055914521217346\n"
          ]
        },
        {
          "output_type": "stream",
          "name": "stderr",
          "text": [
            "100%|██████████| 7/7 [00:10<00:00,  1.46s/it]\n"
          ]
        },
        {
          "output_type": "stream",
          "name": "stdout",
          "text": [
            "\n",
            "\n",
            "test_loss: 0.9299152493476868\n",
            "test_AUC: 0.7687534689903259\n",
            "test_CC: 0.4471333920955658\n",
            "test_NSS: 0.40914127230644226\n",
            "test_KLDiv: 0.9299152493476868\n",
            "test_SIM: 0.49284979701042175\n",
            "\n",
            "\n",
            "Epoch:  16\n"
          ]
        },
        {
          "output_type": "stream",
          "name": "stderr",
          "text": [
            "100%|██████████| 25/25 [01:21<00:00,  3.28s/it]\n"
          ]
        },
        {
          "output_type": "stream",
          "name": "stdout",
          "text": [
            "train_loss: 0.7729141116142273\n",
            "train_AUC: 0.7931872606277466\n",
            "train_CC: 0.4806911051273346\n",
            "train_NSS: 0.5055926442146301\n",
            "train_KLDiv: 0.7729141116142273\n",
            "train_SIM: 0.5109978914260864\n"
          ]
        },
        {
          "output_type": "stream",
          "name": "stderr",
          "text": [
            "100%|██████████| 7/7 [00:05<00:00,  1.33it/s]\n"
          ]
        },
        {
          "output_type": "stream",
          "name": "stdout",
          "text": [
            "\n",
            "\n",
            "test_loss: 0.8678887486457825\n",
            "test_AUC: 0.7795644402503967\n",
            "test_CC: 0.48111820220947266\n",
            "test_NSS: 0.4465819299221039\n",
            "test_KLDiv: 0.8678887486457825\n",
            "test_SIM: 0.5084935426712036\n",
            "\n",
            "\n",
            "Epoch:  17\n"
          ]
        },
        {
          "output_type": "stream",
          "name": "stderr",
          "text": [
            "100%|██████████| 25/25 [00:48<00:00,  1.95s/it]\n"
          ]
        },
        {
          "output_type": "stream",
          "name": "stdout",
          "text": [
            "train_loss: 0.7529446482658386\n",
            "train_AUC: 0.7955591082572937\n",
            "train_CC: 0.49573594331741333\n",
            "train_NSS: 0.5227827429771423\n",
            "train_KLDiv: 0.7529446482658386\n",
            "train_SIM: 0.5174490809440613\n"
          ]
        },
        {
          "output_type": "stream",
          "name": "stderr",
          "text": [
            "100%|██████████| 7/7 [00:04<00:00,  1.41it/s]\n"
          ]
        },
        {
          "output_type": "stream",
          "name": "stdout",
          "text": [
            "\n",
            "\n",
            "test_loss: 0.8605407476425171\n",
            "test_AUC: 0.781119167804718\n",
            "test_CC: 0.48200395703315735\n",
            "test_NSS: 0.4430411159992218\n",
            "test_KLDiv: 0.8605407476425171\n",
            "test_SIM: 0.512018620967865\n",
            "\n",
            "\n",
            "Epoch:  18\n"
          ]
        },
        {
          "output_type": "stream",
          "name": "stderr",
          "text": [
            "100%|██████████| 25/25 [01:21<00:00,  3.28s/it]\n"
          ]
        },
        {
          "output_type": "stream",
          "name": "stdout",
          "text": [
            "train_loss: 0.727463960647583\n",
            "train_AUC: 0.8007922172546387\n",
            "train_CC: 0.512681245803833\n",
            "train_NSS: 0.5380716919898987\n",
            "train_KLDiv: 0.727463960647583\n",
            "train_SIM: 0.526242733001709\n"
          ]
        },
        {
          "output_type": "stream",
          "name": "stderr",
          "text": [
            "100%|██████████| 7/7 [00:04<00:00,  1.41it/s]\n"
          ]
        },
        {
          "output_type": "stream",
          "name": "stdout",
          "text": [
            "\n",
            "\n",
            "test_loss: 0.8647327423095703\n",
            "test_AUC: 0.7689187526702881\n",
            "test_CC: 0.48769500851631165\n",
            "test_NSS: 0.4502405822277069\n",
            "test_KLDiv: 0.8647327423095703\n",
            "test_SIM: 0.5110536813735962\n",
            "\n",
            "\n",
            "Epoch:  19\n"
          ]
        },
        {
          "output_type": "stream",
          "name": "stderr",
          "text": [
            "100%|██████████| 25/25 [00:48<00:00,  1.95s/it]\n"
          ]
        },
        {
          "output_type": "stream",
          "name": "stdout",
          "text": [
            "train_loss: 0.6907466650009155\n",
            "train_AUC: 0.8075628280639648\n",
            "train_CC: 0.5361269116401672\n",
            "train_NSS: 0.5591809749603271\n",
            "train_KLDiv: 0.6907466650009155\n",
            "train_SIM: 0.5383256673812866\n"
          ]
        },
        {
          "output_type": "stream",
          "name": "stderr",
          "text": [
            "100%|██████████| 7/7 [00:04<00:00,  1.43it/s]\n"
          ]
        },
        {
          "output_type": "stream",
          "name": "stdout",
          "text": [
            "\n",
            "\n",
            "test_loss: 0.963038444519043\n",
            "test_AUC: 0.7409104704856873\n",
            "test_CC: 0.44526031613349915\n",
            "test_NSS: 0.4331675171852112\n",
            "test_KLDiv: 0.963038444519043\n",
            "test_SIM: 0.48806557059288025\n",
            "\n",
            "\n"
          ]
        },
        {
          "output_type": "display_data",
          "data": {
            "text/plain": [
              "<Figure size 640x480 with 0 Axes>"
            ]
          },
          "metadata": {}
        }
      ]
    }
  ]
}