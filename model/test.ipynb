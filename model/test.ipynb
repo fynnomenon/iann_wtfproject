{
 "cells": [
  {
   "attachments": {},
   "cell_type": "markdown",
   "metadata": {},
   "source": [
    "**Welcome to our Tensorflow project.** <br>\n",
    "\n",
    "\n",
    "You need to run these two code snippets to start our model.\n",
    "By passing arguments to the main.py file, you can choose whether to use the baseline or multimodal model. See the table below for all the different arguments you can use.\n",
    "\n",
    "\n",
    "| Argument| Defaul | Options|\n",
    "| :- | :-: | -: |\n",
    "| --data | SALICON | capgaze1 |\n",
    "| --colab | 1 | 0 |\n",
    "| --model | baseline | multimodal |\n",
    "| --save | 0 | 1 |\n",
    "| --load_model | 0 | 1 |\n",
    "| --use_pretrained | 1 | 0 |\n",
    "| --fine_tune | 0 | int |\n",
    "| --lr | 1e-4 | float |\n",
    "| --lr_sched | 0 | int |\n",
    "| --optim | Adam | SGD/Adagrad |\n",
    "| --step_size | 5 | int |\n",
    "| --l1_norm | None | float |\n",
    "| --l2_norm | None | float |\n",
    "| --start_epoch | 0 | int |\n",
    "| --no_epochs | 24 | int |\n",
    "| --batch_size | 32 | int |\n"
   ]
  },
  {
   "cell_type": "code",
   "execution_count": null,
   "metadata": {},
   "outputs": [],
   "source": [
    "baseline_SALICON_v1"
   ]
  },
  {
   "cell_type": "code",
   "execution_count": null,
   "metadata": {},
   "outputs": [],
   "source": []
  },
  {
   "cell_type": "code",
   "execution_count": 1,
   "metadata": {},
   "outputs": [
    {
     "name": "stdout",
     "output_type": "stream",
     "text": [
      "Data: SALICON\n",
      "Model: Multimodal Model\n",
      "Model performance before training:\n"
     ]
    },
    {
     "name": "stderr",
     "output_type": "stream",
     "text": [
      "100%|██████████| 1/1 [00:04<00:00,  4.22s/it]\n"
     ]
    },
    {
     "name": "stdout",
     "output_type": "stream",
     "text": [
      "\n",
      "\n",
      "test_loss: 16.22620391845703\n",
      "test_AUC: 0.48621416091918945\n",
      "test_CC: 0.021242043003439903\n",
      "test_NSS: 0.032781586050987244\n",
      "test_KLDiv: 16.22620391845703\n",
      "test_SIM: 0.26665353775024414\n",
      "\n",
      "\n",
      "Epoch:  0\n"
     ]
    },
    {
     "name": "stderr",
     "output_type": "stream",
     "text": [
      "100%|██████████| 1/1 [00:23<00:00, 23.99s/it]\n"
     ]
    },
    {
     "name": "stdout",
     "output_type": "stream",
     "text": [
      "train_loss: 0.8557466268539429\n",
      "train_AUC: 0.46338632702827454\n",
      "train_CC: -0.0037894570268690586\n",
      "train_NSS: 0.012518024072051048\n",
      "train_KLDiv: 0.8557466268539429\n",
      "train_SIM: 0.5235146284103394\n"
     ]
    },
    {
     "name": "stderr",
     "output_type": "stream",
     "text": [
      "100%|██████████| 1/1 [00:03<00:00,  3.43s/it]\n"
     ]
    },
    {
     "name": "stdout",
     "output_type": "stream",
     "text": [
      "\n",
      "\n",
      "test_loss: 3.4084103107452393\n",
      "test_AUC: 0.49638018012046814\n",
      "test_CC: 0.06244339793920517\n",
      "test_NSS: 0.07380838692188263\n",
      "test_KLDiv: 3.4084103107452393\n",
      "test_SIM: 0.42873936891555786\n",
      "\n",
      "\n"
     ]
    }
   ],
   "source": [
    "%run main.py --model multimodal --colab 0 --data SALICON --no_epochs 1 --text_with_dense 0 --config_name test"
   ]
  },
  {
   "cell_type": "code",
   "execution_count": 2,
   "metadata": {},
   "outputs": [
    {
     "name": "stdout",
     "output_type": "stream",
     "text": [
      "True\n"
     ]
    }
   ],
   "source": [
    "a = 1\n",
    "if a: \n",
    "    print(True)"
   ]
  }
 ],
 "metadata": {
  "kernelspec": {
   "display_name": "iannwtf",
   "language": "python",
   "name": "python3"
  },
  "language_info": {
   "codemirror_mode": {
    "name": "ipython",
    "version": 3
   },
   "file_extension": ".py",
   "mimetype": "text/x-python",
   "name": "python",
   "nbconvert_exporter": "python",
   "pygments_lexer": "ipython3",
   "version": "3.7.13"
  }
 },
 "nbformat": 4,
 "nbformat_minor": 4
}
